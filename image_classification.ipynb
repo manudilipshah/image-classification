{
 "cells": [
  {
   "cell_type": "markdown",
   "metadata": {},
   "source": [
    "# Image Classification\n",
    "In this project, you'll classify images from the [CIFAR-10 dataset](https://www.cs.toronto.edu/~kriz/cifar.html).  The dataset consists of airplanes, dogs, cats, and other objects. You'll preprocess the images, then train a convolutional neural network on all the samples. The images need to be normalized and the labels need to be one-hot encoded.  You'll get to apply what you learned and build a convolutional, max pooling, dropout, and fully connected layers.  At the end, you'll get to see your neural network's predictions on the sample images.\n",
    "## Get the Data\n",
    "Run the following cell to download the [CIFAR-10 dataset for python](https://www.cs.toronto.edu/~kriz/cifar-10-python.tar.gz)."
   ]
  },
  {
   "cell_type": "code",
   "execution_count": 4,
   "metadata": {},
   "outputs": [
    {
     "name": "stderr",
     "output_type": "stream",
     "text": [
      "/anaconda3/lib/python3.6/site-packages/h5py/__init__.py:36: FutureWarning: Conversion of the second argument of issubdtype from `float` to `np.floating` is deprecated. In future, it will be treated as `np.float64 == np.dtype(float).type`.\n",
      "  from ._conv import register_converters as _register_converters\n"
     ]
    },
    {
     "name": "stdout",
     "output_type": "stream",
     "text": [
      "All files found!\n"
     ]
    }
   ],
   "source": [
    "\"\"\"\n",
    "DON'T MODIFY ANYTHING IN THIS CELL THAT IS BELOW THIS LINE\n",
    "\"\"\"\n",
    "from urllib.request import urlretrieve\n",
    "from os.path import isfile, isdir\n",
    "from tqdm import tqdm\n",
    "import problem_unittests as tests\n",
    "import tarfile\n",
    "\n",
    "cifar10_dataset_folder_path = 'cifar-10-batches-py'\n",
    "\n",
    "class DLProgress(tqdm):\n",
    "    last_block = 0\n",
    "\n",
    "    def hook(self, block_num=1, block_size=1, total_size=None):\n",
    "        self.total = total_size\n",
    "        self.update((block_num - self.last_block) * block_size)\n",
    "        self.last_block = block_num\n",
    "\n",
    "if not isfile('cifar-10-python.tar.gz'):\n",
    "    with DLProgress(unit='B', unit_scale=True, miniters=1, desc='CIFAR-10 Dataset') as pbar:\n",
    "        urlretrieve(\n",
    "            'https://www.cs.toronto.edu/~kriz/cifar-10-python.tar.gz',\n",
    "            'cifar-10-python.tar.gz',\n",
    "            pbar.hook)\n",
    "\n",
    "if not isdir(cifar10_dataset_folder_path):\n",
    "    with tarfile.open('cifar-10-python.tar.gz') as tar:\n",
    "        tar.extractall()\n",
    "        tar.close()\n",
    "\n",
    "\n",
    "tests.test_folder_path(cifar10_dataset_folder_path)"
   ]
  },
  {
   "cell_type": "markdown",
   "metadata": {},
   "source": [
    "## Explore the Data\n",
    "The dataset is broken into batches to prevent your machine from running out of memory.  The CIFAR-10 dataset consists of 5 batches, named `data_batch_1`, `data_batch_2`, etc.. Each batch contains the labels and images that are one of the following:\n",
    "* airplane\n",
    "* automobile\n",
    "* bird\n",
    "* cat\n",
    "* deer\n",
    "* dog\n",
    "* frog\n",
    "* horse\n",
    "* ship\n",
    "* truck\n",
    "\n",
    "Understanding a dataset is part of making predictions on the data.  Play around with the code cell below by changing the `batch_id` and `sample_id`. The `batch_id` is the id for a batch (1-5). The `sample_id` is the id for a image and label pair in the batch.\n",
    "\n",
    "Ask yourself \"What are all possible labels?\", \"What is the range of values for the image data?\", \"Are the labels in order or random?\".  Answers to questions like these will help you preprocess the data and end up with better predictions."
   ]
  },
  {
   "cell_type": "code",
   "execution_count": 5,
   "metadata": {},
   "outputs": [
    {
     "name": "stdout",
     "output_type": "stream",
     "text": [
      "\n",
      "Stats of batch 4:\n",
      "Samples: 10000\n",
      "Label Counts: {0: 1003, 1: 963, 2: 1041, 3: 976, 4: 1004, 5: 1021, 6: 1004, 7: 981, 8: 1024, 9: 983}\n",
      "First 20 Labels: [0, 6, 0, 2, 7, 2, 1, 2, 4, 1, 5, 6, 6, 3, 1, 3, 5, 5, 8, 1]\n",
      "\n",
      "Example of Image 4:\n",
      "Image - Min Value: 1 Max Value: 243\n",
      "Image - Shape: (32, 32, 3)\n",
      "Label - Label Id: 7 Name: horse\n"
     ]
    },
    {
     "data": {
      "image/png": "[encoded data removed]",
      "text/plain": [
       "<matplotlib.figure.Figure at 0x1821fdcf98>"
      ]
     },
     "metadata": {
      "image/png": {
       "height": 250,
       "width": 253
      }
     },
     "output_type": "display_data"
    }
   ],
   "source": [
    "%matplotlib inline\n",
    "%config InlineBackend.figure_format = 'retina'\n",
    "\n",
    "import helper\n",
    "import numpy as np\n",
    "\n",
    "# Explore the dataset\n",
    "batch_id = 4\n",
    "sample_id = 4\n",
    "helper.display_stats(cifar10_dataset_folder_path, batch_id, sample_id)"
   ]
  },
  {
   "cell_type": "markdown",
   "metadata": {},
   "source": [
    "## Implement Preprocess Functions\n",
    "### Normalize\n",
    "In the cell below, implement the `normalize` function to take in image data, `x`, and return it as a normalized Numpy array. The values should be in the range of 0 to 1, inclusive.  The return object should be the same shape as `x`."
   ]
  },
  {
   "cell_type": "code",
   "execution_count": 6,
   "metadata": {},
   "outputs": [
    {
     "name": "stdout",
     "output_type": "stream",
     "text": [
      "Tests Passed\n"
     ]
    }
   ],
   "source": [
    "def normalize(x):\n",
    "    \"\"\"\n",
    "    Normalize a list of sample image data in the range of 0 to 1\n",
    "    : x: List of image data.  The image shape is (32, 32, 3)\n",
    "    : return: Numpy array of normalize data\n",
    "    \"\"\"\n",
    "    # TODO: Implement Function\n",
    "    min_x = np.min(x)\n",
    "    max_x = np.max(x)\n",
    "    \n",
    "    return (x - min_x) / (max_x - min_x)\n",
    "\n",
    "\n",
    "\"\"\"\n",
    "DON'T MODIFY ANYTHING IN THIS CELL THAT IS BELOW THIS LINE\n",
    "\"\"\"\n",
    "tests.test_normalize(normalize)"
   ]
  },
  {
   "cell_type": "markdown",
   "metadata": {},
   "source": [
    "### One-hot encode\n",
    "Just like the previous code cell, you'll be implementing a function for preprocessing.  This time, you'll implement the `one_hot_encode` function. The input, `x`, are a list of labels.  Implement the function to return the list of labels as One-Hot encoded Numpy array.  The possible values for labels are 0 to 9. The one-hot encoding function should return the same encoding for each value between each call to `one_hot_encode`.  Make sure to save the map of encodings outside the function.\n",
    "\n",
    "**Hint:**\n",
    "\n",
    "Look into LabelBinarizer in the preprocessing module of sklearn."
   ]
  },
  {
   "cell_type": "code",
   "execution_count": 7,
   "metadata": {},
   "outputs": [
    {
     "name": "stdout",
     "output_type": "stream",
     "text": [
      "Tests Passed\n"
     ]
    }
   ],
   "source": [
    "from sklearn.preprocessing import OneHotEncoder\n",
    "onehotEncoder = OneHotEncoder(n_values=10)\n",
    "def one_hot_encode(x):\n",
    "    \"\"\"\n",
    "    One hot encode a list of sample labels. Return a one-hot encoded vector for each label.\n",
    "    : x: List of sample Labels\n",
    "    : return: Numpy array of one-hot encoded labels\n",
    "    \"\"\"\n",
    "    n = np.array(x).reshape(-1,1)\n",
    "    return onehotEncoder.fit_transform(n).toarray()\n",
    "\n",
    "\"\"\"\n",
    "DON'T MODIFY ANYTHING IN THIS CELL THAT IS BELOW THIS LINE\n",
    "\"\"\"\n",
    "tests.test_one_hot_encode(one_hot_encode)"
   ]
  },
  {
   "cell_type": "markdown",
   "metadata": {},
   "source": [
    "### Randomize Data\n",
    "As you saw from exploring the data above, the order of the samples are randomized.  It doesn't hurt to randomize it again, but you don't need to for this dataset."
   ]
  },
  {
   "cell_type": "markdown",
   "metadata": {},
   "source": [
    "## Preprocess all the data and save it\n",
    "Running the code cell below will preprocess all the CIFAR-10 data and save it to file. The code below also uses 10% of the training data for validation."
   ]
  },
  {
   "cell_type": "code",
   "execution_count": 8,
   "metadata": {},
   "outputs": [],
   "source": [
    "\"\"\"\n",
    "DON'T MODIFY ANYTHING IN THIS CELL\n",
    "\"\"\"\n",
    "# Preprocess Training, Validation, and Testing Data\n",
    "helper.preprocess_and_save_data(cifar10_dataset_folder_path, normalize, one_hot_encode)"
   ]
  },
  {
   "cell_type": "markdown",
   "metadata": {},
   "source": [
    "# Check Point\n",
    "This is your first checkpoint.  If you ever decide to come back to this notebook or have to restart the notebook, you can start from here.  The preprocessed data has been saved to disk."
   ]
  },
  {
   "cell_type": "code",
   "execution_count": 9,
   "metadata": {
    "collapsed": true
   },
   "outputs": [],
   "source": [
    "\"\"\"\n",
    "DON'T MODIFY ANYTHING IN THIS CELL\n",
    "\"\"\"\n",
    "import pickle\n",
    "import problem_unittests as tests\n",
    "import helper\n",
    "\n",
    "# Load the Preprocessed Validation data\n",
    "valid_features, valid_labels = pickle.load(open('preprocess_validation.p', mode='rb'))"
   ]
  },
  {
   "cell_type": "markdown",
   "metadata": {},
   "source": [
    "## Build the network\n",
    "For the neural network, you'll build each layer into a function.  Most of the code you've seen has been outside of functions. To test your code more thoroughly, we require that you put each layer in a function.  This allows us to give you better feedback and test for simple mistakes using our unittests before you submit your project.\n",
    "\n",
    ">**Note:** If you're finding it hard to dedicate enough time for this course each week, we've provided a small shortcut to this part of the project. In the next couple of problems, you'll have the option to use classes from the [TensorFlow Layers](https://www.tensorflow.org/api_docs/python/tf/layers) or [TensorFlow Layers (contrib)](https://www.tensorflow.org/api_guides/python/contrib.layers) packages to build each layer, except the layers you build in the \"Convolutional and Max Pooling Layer\" section.  TF Layers is similar to Keras's and TFLearn's abstraction to layers, so it's easy to pickup.\n",
    "\n",
    ">However, if you would like to get the most out of this course, try to solve all the problems _without_ using anything from the TF Layers packages. You **can** still use classes from other packages that happen to have the same name as ones you find in TF Layers! For example, instead of using the TF Layers version of the `conv2d` class, [tf.layers.conv2d](https://www.tensorflow.org/api_docs/python/tf/layers/conv2d), you would want to use the TF Neural Network version of `conv2d`, [tf.nn.conv2d](https://www.tensorflow.org/api_docs/python/tf/nn/conv2d). \n",
    "\n",
    "Let's begin!\n",
    "\n",
    "### Input\n",
    "The neural network needs to read the image data, one-hot encoded labels, and dropout keep probability. Implement the following functions\n",
    "* Implement `neural_net_image_input`\n",
    " * Return a [TF Placeholder](https://www.tensorflow.org/api_docs/python/tf/placeholder)\n",
    " * Set the shape using `image_shape` with batch size set to `None`.\n",
    " * Name the TensorFlow placeholder \"x\" using the TensorFlow `name` parameter in the [TF Placeholder](https://www.tensorflow.org/api_docs/python/tf/placeholder).\n",
    "* Implement `neural_net_label_input`\n",
    " * Return a [TF Placeholder](https://www.tensorflow.org/api_docs/python/tf/placeholder)\n",
    " * Set the shape using `n_classes` with batch size set to `None`.\n",
    " * Name the TensorFlow placeholder \"y\" using the TensorFlow `name` parameter in the [TF Placeholder](https://www.tensorflow.org/api_docs/python/tf/placeholder).\n",
    "* Implement `neural_net_keep_prob_input`\n",
    " * Return a [TF Placeholder](https://www.tensorflow.org/api_docs/python/tf/placeholder) for dropout keep probability.\n",
    " * Name the TensorFlow placeholder \"keep_prob\" using the TensorFlow `name` parameter in the [TF Placeholder](https://www.tensorflow.org/api_docs/python/tf/placeholder).\n",
    "\n",
    "These names will be used at the end of the project to load your saved model.\n",
    "\n",
    "Note: `None` for shapes in TensorFlow allow for a dynamic size."
   ]
  },
  {
   "cell_type": "code",
   "execution_count": 10,
   "metadata": {},
   "outputs": [
    {
     "name": "stdout",
     "output_type": "stream",
     "text": [
      "Image Input Tests Passed.\n",
      "Label Input Tests Passed.\n",
      "Keep Prob Tests Passed.\n"
     ]
    }
   ],
   "source": [
    "import tensorflow as tf\n",
    "\n",
    "def neural_net_image_input(image_shape):\n",
    "    \"\"\"\n",
    "    Return a Tensor for a batch of image input\n",
    "    : image_shape: Shape of the images\n",
    "    : return: Tensor for image input.\n",
    "    \"\"\"\n",
    "    # TODO: Implement Function\n",
    "    return tf.placeholder(tf.float32, shape=(None, image_shape[0], image_shape[1], image_shape[2]), name='x')\n",
    "\n",
    "\n",
    "def neural_net_label_input(n_classes):\n",
    "    \"\"\"\n",
    "    Return a Tensor for a batch of label input\n",
    "    : n_classes: Number of classes\n",
    "    : return: Tensor for label input.\n",
    "    \"\"\"\n",
    "    # TODO: Implement Function\n",
    "    return tf.placeholder(tf.float32,\n",
    "                         shape=(None, n_classes),\n",
    "                         name='y')\n",
    "\n",
    "\n",
    "def neural_net_keep_prob_input():\n",
    "    \"\"\"\n",
    "    Return a Tensor for keep probability\n",
    "    : return: Tensor for keep probability.\n",
    "    \"\"\"\n",
    "    # TODO: Implement Function\n",
    "    return tf.placeholder(tf.float32,\n",
    "                         name='keep_prob')\n",
    "\n",
    "\n",
    "\"\"\"\n",
    "DON'T MODIFY ANYTHING IN THIS CELL THAT IS BELOW THIS LINE\n",
    "\"\"\"\n",
    "tf.reset_default_graph()\n",
    "tests.test_nn_image_inputs(neural_net_image_input)\n",
    "tests.test_nn_label_inputs(neural_net_label_input)\n",
    "tests.test_nn_keep_prob_inputs(neural_net_keep_prob_input)"
   ]
  },
  {
   "cell_type": "markdown",
   "metadata": {},
   "source": [
    "### Convolution and Max Pooling Layer\n",
    "Convolution layers have a lot of success with images. For this code cell, you should implement the function `conv2d_maxpool` to apply convolution then max pooling:\n",
    "* Create the weight and bias using `conv_ksize`, `conv_num_outputs` and the shape of `x_tensor`.\n",
    "* Apply a convolution to `x_tensor` using weight and `conv_strides`.\n",
    " * We recommend you use same padding, but you're welcome to use any padding.\n",
    "* Add bias\n",
    "* Add a nonlinear activation to the convolution.\n",
    "* Apply Max Pooling using `pool_ksize` and `pool_strides`.\n",
    " * We recommend you use same padding, but you're welcome to use any padding.\n",
    "\n",
    "**Note:** You **can't** use [TensorFlow Layers](https://www.tensorflow.org/api_docs/python/tf/layers) or [TensorFlow Layers (contrib)](https://www.tensorflow.org/api_guides/python/contrib.layers) for **this** layer, but you can still use TensorFlow's [Neural Network](https://www.tensorflow.org/api_docs/python/tf/nn) package. You may still use the shortcut option for all the **other** layers.\n",
    "\n",
    "** Hint: **\n",
    "\n",
    "When unpacking values as an argument in Python, look into the [unpacking](https://docs.python.org/3/tutorial/controlflow.html#unpacking-argument-lists) operator. "
   ]
  },
  {
   "cell_type": "code",
   "execution_count": 11,
   "metadata": {},
   "outputs": [
    {
     "name": "stdout",
     "output_type": "stream",
     "text": [
      "Tests Passed\n"
     ]
    }
   ],
   "source": [
    "def conv2d_maxpool(x_tensor, conv_num_outputs, conv_ksize, conv_strides, pool_ksize, pool_strides):\n",
    "    \"\"\"\n",
    "    Apply convolution then max pooling to x_tensor\n",
    "    :param x_tensor: TensorFlow Tensor\n",
    "    :param conv_num_outputs: Number of outputs for the convolutional layer\n",
    "    :param conv_ksize: kernal size 2-D Tuple for the convolutional layer\n",
    "    :param conv_strides: Stride 2-D Tuple for convolution\n",
    "    :param pool_ksize: kernal size 2-D Tuple for pool\n",
    "    :param pool_strides: Stride 2-D Tuple for pool\n",
    "    : return: A tensor that represents convolution and max pooling of x_tensor\n",
    "    \"\"\"\n",
    "    # TODO: Implement Function\n",
    "    weights = tf.Variable(tf.truncated_normal([conv_ksize[0], conv_ksize[1], x_tensor.shape[3].value, conv_num_outputs]))\n",
    "    biases = tf.Variable(tf.zeros(conv_num_outputs))\n",
    "    x = tf.nn.conv2d(x_tensor, weights, strides=[1, conv_strides[0], conv_strides[1], 1], padding='SAME')\n",
    "    x = tf.nn.relu(x+biases)\n",
    "    return tf.nn.max_pool(x, [1, pool_ksize[0], pool_ksize[1], 1], [1, pool_strides[0], pool_strides[1], 1], padding='SAME')\n",
    "\n",
    "\"\"\"\n",
    "DON'T MODIFY ANYTHING IN THIS CELL THAT IS BELOW THIS LINE\n",
    "\"\"\"\n",
    "tests.test_con_pool(conv2d_maxpool)"
   ]
  },
  {
   "cell_type": "markdown",
   "metadata": {},
   "source": [
    "### Flatten Layer\n",
    "Implement the `flatten` function to change the dimension of `x_tensor` from a 4-D tensor to a 2-D tensor.  The output should be the shape (*Batch Size*, *Flattened Image Size*). Shortcut option: you can use classes from the [TensorFlow Layers](https://www.tensorflow.org/api_docs/python/tf/layers) or [TensorFlow Layers (contrib)](https://www.tensorflow.org/api_guides/python/contrib.layers) packages for this layer. For more of a challenge, only use other TensorFlow packages."
   ]
  },
  {
   "cell_type": "code",
   "execution_count": 12,
   "metadata": {},
   "outputs": [
    {
     "name": "stdout",
     "output_type": "stream",
     "text": [
      "Tests Passed\n"
     ]
    }
   ],
   "source": [
    "def flatten(x_tensor):\n",
    "    \"\"\"\n",
    "    Flatten x_tensor to (Batch Size, Flattened Image Size)\n",
    "    : x_tensor: A tensor of size (Batch Size, ...), where ... are the image dimensions.\n",
    "    : return: A tensor of size (Batch Size, Flattened Image Size).\n",
    "    \"\"\"\n",
    "    # TODO: Implement Function\n",
    "    dimension = 1\n",
    "    for shape in x_tensor.get_shape().as_list()[1:]:\n",
    "        dimension *= shape;\n",
    "        \n",
    "    return tf.reshape(x_tensor, [-1, dimension])\n",
    "\n",
    "\n",
    "\"\"\"\n",
    "DON'T MODIFY ANYTHING IN THIS CELL THAT IS BELOW THIS LINE\n",
    "\"\"\"\n",
    "tests.test_flatten(flatten)"
   ]
  },
  {
   "cell_type": "markdown",
   "metadata": {},
   "source": [
    "### Fully-Connected Layer\n",
    "Implement the `fully_conn` function to apply a fully connected layer to `x_tensor` with the shape (*Batch Size*, *num_outputs*). Shortcut option: you can use classes from the [TensorFlow Layers](https://www.tensorflow.org/api_docs/python/tf/layers) or [TensorFlow Layers (contrib)](https://www.tensorflow.org/api_guides/python/contrib.layers) packages for this layer. For more of a challenge, only use other TensorFlow packages."
   ]
  },
  {
   "cell_type": "code",
   "execution_count": 13,
   "metadata": {},
   "outputs": [
    {
     "name": "stdout",
     "output_type": "stream",
     "text": [
      "Tests Passed\n"
     ]
    }
   ],
   "source": [
    "def fully_conn(x_tensor, num_outputs):\n",
    "    \"\"\"\n",
    "    Apply a fully connected layer to x_tensor using weight and bias\n",
    "    : x_tensor: A 2-D tensor where the first dimension is batch size.\n",
    "    : num_outputs: The number of output that the new tensor should be.\n",
    "    : return: A 2-D tensor where the second dimension is num_outputs.\n",
    "    \"\"\"\n",
    "    weights = tf.Variable(tf.truncated_normal([x_tensor.shape[1].value, num_outputs], stddev=0.01))\n",
    "    bias = tf.Variable(tf.truncated_normal([num_outputs]))\n",
    "    return tf.nn.relu(tf.nn.bias_add(tf.matmul(x_tensor, weights), bias))\n",
    "\n",
    "\n",
    "\"\"\"\n",
    "DON'T MODIFY ANYTHING IN THIS CELL THAT IS BELOW THIS LINE\n",
    "\"\"\"\n",
    "tests.test_fully_conn(fully_conn)"
   ]
  },
  {
   "cell_type": "markdown",
   "metadata": {},
   "source": [
    "### Output Layer\n",
    "Implement the `output` function to apply a fully connected layer to `x_tensor` with the shape (*Batch Size*, *num_outputs*). Shortcut option: you can use classes from the [TensorFlow Layers](https://www.tensorflow.org/api_docs/python/tf/layers) or [TensorFlow Layers (contrib)](https://www.tensorflow.org/api_guides/python/contrib.layers) packages for this layer. For more of a challenge, only use other TensorFlow packages.\n",
    "\n",
    "**Note:** Activation, softmax, or cross entropy should **not** be applied to this."
   ]
  },
  {
   "cell_type": "code",
   "execution_count": 22,
   "metadata": {},
   "outputs": [
    {
     "name": "stdout",
     "output_type": "stream",
     "text": [
      "Tests Passed\n"
     ]
    }
   ],
   "source": [
    "def output(x_tensor, num_outputs):\n",
    "    \"\"\"\n",
    "    Apply a output layer to x_tensor using weight and bias\n",
    "    : x_tensor: A 2-D tensor where the first dimension is batch size.\n",
    "    : num_outputs: The number of output that the new tensor should be.\n",
    "    : return: A 2-D tensor where the second dimension is num_outputs.\n",
    "    \"\"\"\n",
    "    weights = tf.Variable(tf.truncated_normal([x_tensor.shape[1].value, num_outputs]))\n",
    "    bias = tf.Variable(tf.zeros([num_outputs]))\n",
    "    return tf.add(tf.matmul(x_tensor, weights), bias)\n",
    "\n",
    "\"\"\"\n",
    "DON'T MODIFY ANYTHING IN THIS CELL THAT IS BELOW THIS LINE\n",
    "\"\"\"\n",
    "tests.test_output(output)"
   ]
  },
  {
   "cell_type": "markdown",
   "metadata": {},
   "source": [
    "### Create Convolutional Model\n",
    "Implement the function `conv_net` to create a convolutional neural network model. The function takes in a batch of images, `x`, and outputs logits.  Use the layers you created above to create this model:\n",
    "\n",
    "* Apply 1, 2, or 3 Convolution and Max Pool layers\n",
    "* Apply a Flatten Layer\n",
    "* Apply 1, 2, or 3 Fully Connected Layers\n",
    "* Apply an Output Layer\n",
    "* Return the output\n",
    "* Apply [TensorFlow's Dropout](https://www.tensorflow.org/api_docs/python/tf/nn/dropout) to one or more layers in the model using `keep_prob`. "
   ]
  },
  {
   "cell_type": "code",
   "execution_count": 23,
   "metadata": {},
   "outputs": [
    {
     "name": "stdout",
     "output_type": "stream",
     "text": [
      "Neural Network Built!\n"
     ]
    }
   ],
   "source": [
    "def conv_net(x, keep_prob):\n",
    "    \"\"\"\n",
    "    Create a convolutional neural network model\n",
    "    : x: Placeholder tensor that holds image data.\n",
    "    : keep_prob: Placeholder tensor that hold dropout keep probability.\n",
    "    : return: Tensor that represents logits\n",
    "    \"\"\"\n",
    "    # TODO: Apply 1, 2, or 3 Convolution and Max Pool layers\n",
    "    #    Play around with different number of outputs, kernel size and stride\n",
    "    # Function Definition from Above:\n",
    "    #    conv2d_maxpool(x_tensor, conv_num_outputs, conv_ksize, conv_strides, pool_ksize, pool_strides)\n",
    "    conv_num_outputs = [ 64, 128 ]\n",
    "    conv_ksize = [ (4,4) , (8,8) ]\n",
    "    conv_strides = [ (4,4), (4,4) ]\n",
    "    pool_ksize = (2,2)\n",
    "    pool_strides = (2,2)\n",
    "    conv_layer_1 = conv2d_maxpool(x, conv_num_outputs[0], conv_ksize[0], conv_strides[0], pool_ksize, pool_strides)\n",
    "    conv_layer_2 = conv2d_maxpool(x, conv_num_outputs[1], conv_ksize[1], conv_strides[1], pool_ksize, pool_strides)\n",
    "    conv_layer_2 = tf.nn.dropout(conv_layer_2, keep_prob)\n",
    "    \n",
    "    # TODO: Apply a Flatten Layer\n",
    "    # Function Definition from Above:\n",
    "    #   flatten(x_tensor)\n",
    "    x_tensor = flatten(conv_layer_2)\n",
    "    \n",
    "    # TODO: Apply 1, 2, or 3 Fully Connected Layers\n",
    "    #    Play around with different number of outputs\n",
    "    # Function Definition from Above:\n",
    "    #   fully_conn(x_tensor, num_outputs)\n",
    "    num_outputs = ( 1000, 2000 )\n",
    "    fully_conn_1 = fully_conn(x_tensor, num_outputs[0])\n",
    "    fully_conn_1 = tf.nn.dropout(fully_conn_1, keep_prob)\n",
    "    fully_conn_2 = fully_conn(x_tensor, num_outputs[1])\n",
    "    \n",
    "    # TODO: Apply an Output Layer\n",
    "    #    Set this to the number of classes\n",
    "    # Function Definition from Above:\n",
    "    #   output(x_tensor, num_outputs)\n",
    "    final = output(fully_conn_2, 10)\n",
    "    \n",
    "    # TODO: return output\n",
    "    return final\n",
    "\n",
    "\n",
    "\"\"\"\n",
    "DON'T MODIFY ANYTHING IN THIS CELL THAT IS BELOW THIS LINE\n",
    "\"\"\"\n",
    "\n",
    "##############################\n",
    "## Build the Neural Network ##\n",
    "##############################\n",
    "\n",
    "# Remove previous weights, bias, inputs, etc..\n",
    "tf.reset_default_graph()\n",
    "\n",
    "# Inputs\n",
    "x = neural_net_image_input((32, 32, 3))\n",
    "y = neural_net_label_input(10)\n",
    "keep_prob = neural_net_keep_prob_input()\n",
    "\n",
    "# Model\n",
    "logits = conv_net(x, keep_prob)\n",
    "\n",
    "# Name logits Tensor, so that is can be loaded from disk after training\n",
    "logits = tf.identity(logits, name='logits')\n",
    "\n",
    "# Loss and Optimizer\n",
    "cost = tf.reduce_mean(tf.nn.softmax_cross_entropy_with_logits(logits=logits, labels=y))\n",
    "optimizer = tf.train.AdamOptimizer().minimize(cost)\n",
    "\n",
    "# Accuracy\n",
    "correct_pred = tf.equal(tf.argmax(logits, 1), tf.argmax(y, 1))\n",
    "accuracy = tf.reduce_mean(tf.cast(correct_pred, tf.float32), name='accuracy')\n",
    "\n",
    "tests.test_conv_net(conv_net)"
   ]
  },
  {
   "cell_type": "markdown",
   "metadata": {},
   "source": [
    "## Train the Neural Network\n",
    "### Single Optimization\n",
    "Implement the function `train_neural_network` to do a single optimization.  The optimization should use `optimizer` to optimize in `session` with a `feed_dict` of the following:\n",
    "* `x` for image input\n",
    "* `y` for labels\n",
    "* `keep_prob` for keep probability for dropout\n",
    "\n",
    "This function will be called for each batch, so `tf.global_variables_initializer()` has already been called.\n",
    "\n",
    "Note: Nothing needs to be returned. This function is only optimizing the neural network."
   ]
  },
  {
   "cell_type": "code",
   "execution_count": 24,
   "metadata": {},
   "outputs": [
    {
     "name": "stdout",
     "output_type": "stream",
     "text": [
      "Tests Passed\n"
     ]
    }
   ],
   "source": [
    "def train_neural_network(session, optimizer, keep_probability, feature_batch, label_batch):\n",
    "    \"\"\"\n",
    "    Optimize the session on a batch of images and labels\n",
    "    : session: Current TensorFlow session\n",
    "    : optimizer: TensorFlow optimizer function\n",
    "    : keep_probability: keep probability\n",
    "    : feature_batch: Batch of Numpy image data\n",
    "    : label_batch: Batch of Numpy label data\n",
    "    \"\"\"\n",
    "    session.run(optimizer, feed_dict={x: feature_batch, y: label_batch, keep_prob: keep_probability})\n",
    "    # TODO: Implement Function\n",
    "    pass\n",
    "\n",
    "\n",
    "\"\"\"\n",
    "DON'T MODIFY ANYTHING IN THIS CELL THAT IS BELOW THIS LINE\n",
    "\"\"\"\n",
    "tests.test_train_nn(train_neural_network)"
   ]
  },
  {
   "cell_type": "markdown",
   "metadata": {},
   "source": [
    "### Show Stats\n",
    "Implement the function `print_stats` to print loss and validation accuracy.  Use the global variables `valid_features` and `valid_labels` to calculate validation accuracy.  Use a keep probability of `1.0` to calculate the loss and validation accuracy."
   ]
  },
  {
   "cell_type": "code",
   "execution_count": 25,
   "metadata": {},
   "outputs": [],
   "source": [
    "def print_stats(session, feature_batch, label_batch, cost, accuracy):\n",
    "    \"\"\"\n",
    "    Print information about loss and validation accuracy\n",
    "    : session: Current TensorFlow session\n",
    "    : feature_batch: Batch of Numpy image data\n",
    "    : label_batch: Batch of Numpy label data\n",
    "    : cost: TensorFlow cost function\n",
    "    : accuracy: TensorFlow accuracy function\n",
    "    \"\"\"\n",
    "    # TODO: Implement Function\n",
    "    loss = sess.run(cost, feed_dict={x: feature_batch, y: label_batch, keep_prob: 1.0})\n",
    "    accuracy = sess.run(accuracy, feed_dict={x: feature_batch, y: label_batch, keep_prob: 1.0})\n",
    "    print('Loss: {:.4f}, Accuracy: {:.4f}'.format(loss, accuracy))\n",
    "    pass"
   ]
  },
  {
   "cell_type": "markdown",
   "metadata": {},
   "source": [
    "### Hyperparameters\n",
    "Tune the following parameters:\n",
    "* Set `epochs` to the number of iterations until the network stops learning or start overfitting\n",
    "* Set `batch_size` to the highest number that your machine has memory for.  Most people set them to common sizes of memory:\n",
    " * 64\n",
    " * 128\n",
    " * 256\n",
    " * ...\n",
    "* Set `keep_probability` to the probability of keeping a node using dropout"
   ]
  },
  {
   "cell_type": "code",
   "execution_count": 36,
   "metadata": {
    "collapsed": true
   },
   "outputs": [],
   "source": [
    "# TODO: Tune Parameters\n",
    "epochs = 40\n",
    "batch_size = 512\n",
    "keep_probability = 0.7"
   ]
  },
  {
   "cell_type": "markdown",
   "metadata": {},
   "source": [
    "### Train on a Single CIFAR-10 Batch\n",
    "Instead of training the neural network on all the CIFAR-10 batches of data, let's use a single batch. This should save time while you iterate on the model to get a better accuracy.  Once the final validation accuracy is 50% or greater, run the model on all the data in the next section."
   ]
  },
  {
   "cell_type": "code",
   "execution_count": 37,
   "metadata": {},
   "outputs": [
    {
     "name": "stdout",
     "output_type": "stream",
     "text": [
      "Checking the Training on a Single Batch...\n",
      "Epoch  1, CIFAR-10 Batch 1:  Loss: 203.9223, Accuracy: 0.1385\n",
      "Epoch  2, CIFAR-10 Batch 1:  Loss: 30.9306, Accuracy: 0.2061\n",
      "Epoch  3, CIFAR-10 Batch 1:  Loss: 9.7757, Accuracy: 0.2635\n",
      "Epoch  4, CIFAR-10 Batch 1:  Loss: 4.7978, Accuracy: 0.3277\n",
      "Epoch  5, CIFAR-10 Batch 1:  Loss: 3.2669, Accuracy: 0.3378\n",
      "Epoch  6, CIFAR-10 Batch 1:  Loss: 2.4951, Accuracy: 0.4054\n",
      "Epoch  7, CIFAR-10 Batch 1:  Loss: 2.4414, Accuracy: 0.4324\n",
      "Epoch  8, CIFAR-10 Batch 1:  Loss: 2.2526, Accuracy: 0.4696\n",
      "Epoch  9, CIFAR-10 Batch 1:  Loss: 1.9337, Accuracy: 0.4865\n",
      "Epoch 10, CIFAR-10 Batch 1:  Loss: 1.6394, Accuracy: 0.5068\n",
      "Epoch 11, CIFAR-10 Batch 1:  Loss: 2.0625, Accuracy: 0.4662\n",
      "Epoch 12, CIFAR-10 Batch 1:  Loss: 1.9785, Accuracy: 0.5101\n",
      "Epoch 13, CIFAR-10 Batch 1:  Loss: 8.4568, Accuracy: 0.2601\n",
      "Epoch 14, CIFAR-10 Batch 1:  Loss: 5.0175, Accuracy: 0.3243\n",
      "Epoch 15, CIFAR-10 Batch 1:  Loss: 1.7320, Accuracy: 0.5372\n",
      "Epoch 16, CIFAR-10 Batch 1:  Loss: 1.4364, Accuracy: 0.5642\n",
      "Epoch 17, CIFAR-10 Batch 1:  Loss: 1.1790, Accuracy: 0.6047\n",
      "Epoch 18, CIFAR-10 Batch 1:  Loss: 1.9855, Accuracy: 0.5000\n",
      "Epoch 19, CIFAR-10 Batch 1:  Loss: 1.3094, Accuracy: 0.6182\n",
      "Epoch 20, CIFAR-10 Batch 1:  Loss: 1.7312, Accuracy: 0.5439\n",
      "Epoch 21, CIFAR-10 Batch 1:  Loss: 3.2355, Accuracy: 0.4932\n",
      "Epoch 22, CIFAR-10 Batch 1:  Loss: 1.8722, Accuracy: 0.4932\n",
      "Epoch 23, CIFAR-10 Batch 1:  Loss: 2.2870, Accuracy: 0.5169\n",
      "Epoch 24, CIFAR-10 Batch 1:  Loss: 1.4242, Accuracy: 0.6115\n",
      "Epoch 25, CIFAR-10 Batch 1:  Loss: 1.5571, Accuracy: 0.5372\n",
      "Epoch 26, CIFAR-10 Batch 1:  Loss: 1.0898, Accuracy: 0.6520\n",
      "Epoch 27, CIFAR-10 Batch 1:  Loss: 0.8698, Accuracy: 0.7162\n",
      "Epoch 28, CIFAR-10 Batch 1:  Loss: 0.8681, Accuracy: 0.7095\n",
      "Epoch 29, CIFAR-10 Batch 1:  Loss: 0.9063, Accuracy: 0.7027\n",
      "Epoch 30, CIFAR-10 Batch 1:  Loss: 2.9674, Accuracy: 0.4493\n",
      "Epoch 31, CIFAR-10 Batch 1:  Loss: 3.8796, Accuracy: 0.3007\n",
      "Epoch 32, CIFAR-10 Batch 1:  Loss: 3.0696, Accuracy: 0.4527\n",
      "Epoch 33, CIFAR-10 Batch 1:  Loss: 1.1081, Accuracy: 0.6689\n",
      "Epoch 34, CIFAR-10 Batch 1:  Loss: 1.0080, Accuracy: 0.6689\n",
      "Epoch 35, CIFAR-10 Batch 1:  Loss: 1.3782, Accuracy: 0.5777\n",
      "Epoch 36, CIFAR-10 Batch 1:  Loss: 2.9027, Accuracy: 0.3716\n",
      "Epoch 37, CIFAR-10 Batch 1:  Loss: 1.9393, Accuracy: 0.5304\n",
      "Epoch 38, CIFAR-10 Batch 1:  Loss: 1.9575, Accuracy: 0.6216\n",
      "Epoch 39, CIFAR-10 Batch 1:  Loss: 2.5000, Accuracy: 0.4764\n",
      "Epoch 40, CIFAR-10 Batch 1:  Loss: 1.1606, Accuracy: 0.6351\n"
     ]
    }
   ],
   "source": [
    "\"\"\"\n",
    "DON'T MODIFY ANYTHING IN THIS CELL\n",
    "\"\"\"\n",
    "print('Checking the Training on a Single Batch...')\n",
    "with tf.Session() as sess:\n",
    "    # Initializing the variables\n",
    "    sess.run(tf.global_variables_initializer())\n",
    "    \n",
    "    # Training cycle\n",
    "    for epoch in range(epochs):\n",
    "        batch_i = 1\n",
    "        for batch_features, batch_labels in helper.load_preprocess_training_batch(batch_i, batch_size):\n",
    "            train_neural_network(sess, optimizer, keep_probability, batch_features, batch_labels)\n",
    "        print('Epoch {:>2}, CIFAR-10 Batch {}:  '.format(epoch + 1, batch_i), end='')\n",
    "        print_stats(sess, batch_features, batch_labels, cost, accuracy)"
   ]
  },
  {
   "cell_type": "markdown",
   "metadata": {},
   "source": [
    "### Fully Train the Model\n",
    "Now that you got a good accuracy with a single CIFAR-10 batch, try it with all five batches."
   ]
  },
  {
   "cell_type": "code",
   "execution_count": 38,
   "metadata": {},
   "outputs": [
    {
     "name": "stdout",
     "output_type": "stream",
     "text": [
      "Training...\n",
      "Epoch  1, CIFAR-10 Batch 1:  Loss: 637.4436, Accuracy: 0.1453\n",
      "Epoch  1, CIFAR-10 Batch 2:  Loss: 39.8427, Accuracy: 0.1655\n",
      "Epoch  1, CIFAR-10 Batch 3:  Loss: 9.1880, Accuracy: 0.2601\n",
      "Epoch  1, CIFAR-10 Batch 4:  Loss: 4.2309, Accuracy: 0.3311\n",
      "Epoch  1, CIFAR-10 Batch 5:  Loss: 3.3376, Accuracy: 0.3953\n",
      "Epoch  2, CIFAR-10 Batch 1:  Loss: 2.9293, Accuracy: 0.3986\n",
      "Epoch  2, CIFAR-10 Batch 2:  Loss: 2.3639, Accuracy: 0.4459\n",
      "Epoch  2, CIFAR-10 Batch 3:  Loss: 1.9895, Accuracy: 0.4730\n",
      "Epoch  2, CIFAR-10 Batch 4:  Loss: 2.0826, Accuracy: 0.4459\n",
      "Epoch  2, CIFAR-10 Batch 5:  Loss: 1.9416, Accuracy: 0.4426\n",
      "Epoch  3, CIFAR-10 Batch 1:  Loss: 2.1497, Accuracy: 0.4324\n",
      "Epoch  3, CIFAR-10 Batch 2:  Loss: 2.2341, Accuracy: 0.4493\n",
      "Epoch  3, CIFAR-10 Batch 3:  Loss: 2.1748, Accuracy: 0.3851\n",
      "Epoch  3, CIFAR-10 Batch 4:  Loss: 1.6957, Accuracy: 0.5135\n",
      "Epoch  3, CIFAR-10 Batch 5:  Loss: 5.6411, Accuracy: 0.2568\n",
      "Epoch  4, CIFAR-10 Batch 1:  Loss: 3.5502, Accuracy: 0.3649\n",
      "Epoch  4, CIFAR-10 Batch 2:  Loss: 2.5283, Accuracy: 0.4054\n",
      "Epoch  4, CIFAR-10 Batch 3:  Loss: 1.7959, Accuracy: 0.4932\n",
      "Epoch  4, CIFAR-10 Batch 4:  Loss: 1.9101, Accuracy: 0.4764\n",
      "Epoch  4, CIFAR-10 Batch 5:  Loss: 5.8285, Accuracy: 0.3243\n",
      "Epoch  5, CIFAR-10 Batch 1:  Loss: 4.4462, Accuracy: 0.3818\n",
      "Epoch  5, CIFAR-10 Batch 2:  Loss: 2.6996, Accuracy: 0.4020\n",
      "Epoch  5, CIFAR-10 Batch 3:  Loss: 1.5378, Accuracy: 0.5068\n",
      "Epoch  5, CIFAR-10 Batch 4:  Loss: 1.5169, Accuracy: 0.5541\n",
      "Epoch  5, CIFAR-10 Batch 5:  Loss: 3.6654, Accuracy: 0.3480\n",
      "Epoch  6, CIFAR-10 Batch 1:  Loss: 1.9170, Accuracy: 0.4493\n",
      "Epoch  6, CIFAR-10 Batch 2:  Loss: 1.6936, Accuracy: 0.5236\n",
      "Epoch  6, CIFAR-10 Batch 3:  Loss: 1.9491, Accuracy: 0.4291\n",
      "Epoch  6, CIFAR-10 Batch 4:  Loss: 1.7769, Accuracy: 0.4899\n",
      "Epoch  6, CIFAR-10 Batch 5:  Loss: 1.5054, Accuracy: 0.4966\n",
      "Epoch  7, CIFAR-10 Batch 1:  Loss: 2.3003, Accuracy: 0.3615\n",
      "Epoch  7, CIFAR-10 Batch 2:  Loss: 4.7715, Accuracy: 0.3514\n",
      "Epoch  7, CIFAR-10 Batch 3:  Loss: 2.9024, Accuracy: 0.4392\n",
      "Epoch  7, CIFAR-10 Batch 4:  Loss: 1.8058, Accuracy: 0.4831\n",
      "Epoch  7, CIFAR-10 Batch 5:  Loss: 1.5749, Accuracy: 0.4899\n",
      "Epoch  8, CIFAR-10 Batch 1:  Loss: 1.8141, Accuracy: 0.4831\n",
      "Epoch  8, CIFAR-10 Batch 2:  Loss: 1.5822, Accuracy: 0.5405\n",
      "Epoch  8, CIFAR-10 Batch 3:  Loss: 2.4997, Accuracy: 0.3885\n",
      "Epoch  8, CIFAR-10 Batch 4:  Loss: 2.4765, Accuracy: 0.4493\n",
      "Epoch  8, CIFAR-10 Batch 5:  Loss: 1.3086, Accuracy: 0.5338\n",
      "Epoch  9, CIFAR-10 Batch 1:  Loss: 1.5429, Accuracy: 0.4966\n",
      "Epoch  9, CIFAR-10 Batch 2:  Loss: 1.8710, Accuracy: 0.4966\n",
      "Epoch  9, CIFAR-10 Batch 3:  Loss: 1.2775, Accuracy: 0.5541\n",
      "Epoch  9, CIFAR-10 Batch 4:  Loss: 1.4364, Accuracy: 0.5372\n",
      "Epoch  9, CIFAR-10 Batch 5:  Loss: 2.7141, Accuracy: 0.4831\n",
      "Epoch 10, CIFAR-10 Batch 1:  Loss: 3.8555, Accuracy: 0.3412\n",
      "Epoch 10, CIFAR-10 Batch 2:  Loss: 1.5313, Accuracy: 0.5338\n",
      "Epoch 10, CIFAR-10 Batch 3:  Loss: 1.2432, Accuracy: 0.5709\n",
      "Epoch 10, CIFAR-10 Batch 4:  Loss: 1.6776, Accuracy: 0.4696\n",
      "Epoch 10, CIFAR-10 Batch 5:  Loss: 1.4934, Accuracy: 0.5101\n",
      "Epoch 11, CIFAR-10 Batch 1:  Loss: 1.5724, Accuracy: 0.5000\n",
      "Epoch 11, CIFAR-10 Batch 2:  Loss: 1.4376, Accuracy: 0.5608\n",
      "Epoch 11, CIFAR-10 Batch 3:  Loss: 1.2574, Accuracy: 0.5642\n",
      "Epoch 11, CIFAR-10 Batch 4:  Loss: 1.6632, Accuracy: 0.4696\n",
      "Epoch 11, CIFAR-10 Batch 5:  Loss: 2.2951, Accuracy: 0.4426\n",
      "Epoch 12, CIFAR-10 Batch 1:  Loss: 1.6668, Accuracy: 0.4730\n",
      "Epoch 12, CIFAR-10 Batch 2:  Loss: 1.4337, Accuracy: 0.5541\n",
      "Epoch 12, CIFAR-10 Batch 3:  Loss: 1.1783, Accuracy: 0.5980\n",
      "Epoch 12, CIFAR-10 Batch 4:  Loss: 2.2384, Accuracy: 0.4696\n",
      "Epoch 12, CIFAR-10 Batch 5:  Loss: 1.5025, Accuracy: 0.5236\n",
      "Epoch 13, CIFAR-10 Batch 1:  Loss: 1.3418, Accuracy: 0.5068\n",
      "Epoch 13, CIFAR-10 Batch 2:  Loss: 1.9838, Accuracy: 0.5034\n",
      "Epoch 13, CIFAR-10 Batch 3:  Loss: 1.8562, Accuracy: 0.4764\n",
      "Epoch 13, CIFAR-10 Batch 4:  Loss: 4.0966, Accuracy: 0.3716\n",
      "Epoch 13, CIFAR-10 Batch 5:  Loss: 1.3957, Accuracy: 0.5372\n",
      "Epoch 14, CIFAR-10 Batch 1:  Loss: 1.4144, Accuracy: 0.5236\n",
      "Epoch 14, CIFAR-10 Batch 2:  Loss: 1.3092, Accuracy: 0.5845\n",
      "Epoch 14, CIFAR-10 Batch 3:  Loss: 1.2303, Accuracy: 0.5946\n",
      "Epoch 14, CIFAR-10 Batch 4:  Loss: 1.2097, Accuracy: 0.5946\n",
      "Epoch 14, CIFAR-10 Batch 5:  Loss: 1.1398, Accuracy: 0.6014\n",
      "Epoch 15, CIFAR-10 Batch 1:  Loss: 1.2851, Accuracy: 0.5304\n",
      "Epoch 15, CIFAR-10 Batch 2:  Loss: 2.0073, Accuracy: 0.4730\n",
      "Epoch 15, CIFAR-10 Batch 3:  Loss: 2.3769, Accuracy: 0.4189\n",
      "Epoch 15, CIFAR-10 Batch 4:  Loss: 1.4437, Accuracy: 0.5338\n",
      "Epoch 15, CIFAR-10 Batch 5:  Loss: 1.2465, Accuracy: 0.5743\n",
      "Epoch 16, CIFAR-10 Batch 1:  Loss: 1.2460, Accuracy: 0.5473\n",
      "Epoch 16, CIFAR-10 Batch 2:  Loss: 1.5044, Accuracy: 0.5304\n",
      "Epoch 16, CIFAR-10 Batch 3:  Loss: 1.3609, Accuracy: 0.5405\n",
      "Epoch 16, CIFAR-10 Batch 4:  Loss: 1.2798, Accuracy: 0.5405\n",
      "Epoch 16, CIFAR-10 Batch 5:  Loss: 1.1293, Accuracy: 0.6014\n",
      "Epoch 17, CIFAR-10 Batch 1:  Loss: 1.2847, Accuracy: 0.5270\n",
      "Epoch 17, CIFAR-10 Batch 2:  Loss: 1.4220, Accuracy: 0.5304\n",
      "Epoch 17, CIFAR-10 Batch 3:  Loss: 1.2200, Accuracy: 0.5912\n",
      "Epoch 17, CIFAR-10 Batch 4:  Loss: 1.2550, Accuracy: 0.5743\n",
      "Epoch 17, CIFAR-10 Batch 5:  Loss: 1.1188, Accuracy: 0.6014\n",
      "Epoch 18, CIFAR-10 Batch 1:  Loss: 1.3061, Accuracy: 0.5608\n",
      "Epoch 18, CIFAR-10 Batch 2:  Loss: 1.3441, Accuracy: 0.5811\n",
      "Epoch 18, CIFAR-10 Batch 3:  Loss: 1.1538, Accuracy: 0.5878\n",
      "Epoch 18, CIFAR-10 Batch 4:  Loss: 1.3421, Accuracy: 0.5169\n",
      "Epoch 18, CIFAR-10 Batch 5:  Loss: 1.2995, Accuracy: 0.5304\n",
      "Epoch 19, CIFAR-10 Batch 1:  Loss: 1.2015, Accuracy: 0.5811\n",
      "Epoch 19, CIFAR-10 Batch 2:  Loss: 1.3776, Accuracy: 0.5270\n",
      "Epoch 19, CIFAR-10 Batch 3:  Loss: 1.3003, Accuracy: 0.5845\n",
      "Epoch 19, CIFAR-10 Batch 4:  Loss: 1.2487, Accuracy: 0.5743\n",
      "Epoch 19, CIFAR-10 Batch 5:  Loss: 1.1247, Accuracy: 0.6149\n",
      "Epoch 20, CIFAR-10 Batch 1:  Loss: 1.3372, Accuracy: 0.5541\n",
      "Epoch 20, CIFAR-10 Batch 2:  Loss: 1.3161, Accuracy: 0.5608\n",
      "Epoch 20, CIFAR-10 Batch 3:  Loss: 1.3995, Accuracy: 0.5541\n",
      "Epoch 20, CIFAR-10 Batch 4:  Loss: 2.0726, Accuracy: 0.4189\n",
      "Epoch 20, CIFAR-10 Batch 5:  Loss: 1.2876, Accuracy: 0.5473\n",
      "Epoch 21, CIFAR-10 Batch 1:  Loss: 1.3161, Accuracy: 0.5304\n",
      "Epoch 21, CIFAR-10 Batch 2:  Loss: 1.3832, Accuracy: 0.5642\n",
      "Epoch 21, CIFAR-10 Batch 3:  Loss: 1.4381, Accuracy: 0.5574\n",
      "Epoch 21, CIFAR-10 Batch 4:  Loss: 1.2205, Accuracy: 0.5608\n",
      "Epoch 21, CIFAR-10 Batch 5:  Loss: 1.0492, Accuracy: 0.6385\n",
      "Epoch 22, CIFAR-10 Batch 1:  Loss: 1.1505, Accuracy: 0.5676\n",
      "Epoch 22, CIFAR-10 Batch 2:  Loss: 1.2370, Accuracy: 0.6047\n",
      "Epoch 22, CIFAR-10 Batch 3:  Loss: 1.6705, Accuracy: 0.5405\n",
      "Epoch 22, CIFAR-10 Batch 4:  Loss: 1.3341, Accuracy: 0.5439\n",
      "Epoch 22, CIFAR-10 Batch 5:  Loss: 1.1527, Accuracy: 0.6182\n",
      "Epoch 23, CIFAR-10 Batch 1:  Loss: 1.3248, Accuracy: 0.5608\n",
      "Epoch 23, CIFAR-10 Batch 2:  Loss: 1.2692, Accuracy: 0.5642\n",
      "Epoch 23, CIFAR-10 Batch 3:  Loss: 1.0717, Accuracy: 0.6182\n",
      "Epoch 23, CIFAR-10 Batch 4:  Loss: 1.1706, Accuracy: 0.5473\n",
      "Epoch 23, CIFAR-10 Batch 5:  Loss: 1.0094, Accuracy: 0.6622\n",
      "Epoch 24, CIFAR-10 Batch 1:  Loss: 1.1647, Accuracy: 0.5507\n",
      "Epoch 24, CIFAR-10 Batch 2:  Loss: 1.2106, Accuracy: 0.6014\n",
      "Epoch 24, CIFAR-10 Batch 3:  Loss: 1.2559, Accuracy: 0.5845\n",
      "Epoch 24, CIFAR-10 Batch 4:  Loss: 1.3373, Accuracy: 0.5372\n",
      "Epoch 24, CIFAR-10 Batch 5:  Loss: 1.0515, Accuracy: 0.6486\n",
      "Epoch 25, CIFAR-10 Batch 1:  Loss: 1.2868, Accuracy: 0.5068\n",
      "Epoch 25, CIFAR-10 Batch 2:  Loss: 1.1062, Accuracy: 0.6216\n",
      "Epoch 25, CIFAR-10 Batch 3:  Loss: 1.0962, Accuracy: 0.6182\n",
      "Epoch 25, CIFAR-10 Batch 4:  Loss: 1.1707, Accuracy: 0.5811\n",
      "Epoch 25, CIFAR-10 Batch 5:  Loss: 1.0599, Accuracy: 0.6385\n",
      "Epoch 26, CIFAR-10 Batch 1:  Loss: 1.1594, Accuracy: 0.5777\n",
      "Epoch 26, CIFAR-10 Batch 2:  Loss: 1.2530, Accuracy: 0.5676\n",
      "Epoch 26, CIFAR-10 Batch 3:  Loss: 1.0662, Accuracy: 0.6486\n",
      "Epoch 26, CIFAR-10 Batch 4:  Loss: 1.1416, Accuracy: 0.5642\n",
      "Epoch 26, CIFAR-10 Batch 5:  Loss: 1.0605, Accuracy: 0.6216\n",
      "Epoch 27, CIFAR-10 Batch 1:  Loss: 1.1340, Accuracy: 0.5878\n",
      "Epoch 27, CIFAR-10 Batch 2:  Loss: 1.1139, Accuracy: 0.6014\n",
      "Epoch 27, CIFAR-10 Batch 3:  Loss: 1.1549, Accuracy: 0.6351\n",
      "Epoch 27, CIFAR-10 Batch 4:  Loss: 1.1729, Accuracy: 0.5507\n",
      "Epoch 27, CIFAR-10 Batch 5:  Loss: 1.0126, Accuracy: 0.6351\n",
      "Epoch 28, CIFAR-10 Batch 1:  Loss: 1.1152, Accuracy: 0.5878\n",
      "Epoch 28, CIFAR-10 Batch 2:  Loss: 1.1341, Accuracy: 0.6047\n",
      "Epoch 28, CIFAR-10 Batch 3:  Loss: 1.0216, Accuracy: 0.6723\n",
      "Epoch 28, CIFAR-10 Batch 4:  Loss: 1.1332, Accuracy: 0.5608\n",
      "Epoch 28, CIFAR-10 Batch 5:  Loss: 1.0009, Accuracy: 0.6453\n",
      "Epoch 29, CIFAR-10 Batch 1:  Loss: 1.1313, Accuracy: 0.5845\n",
      "Epoch 29, CIFAR-10 Batch 2:  Loss: 1.1205, Accuracy: 0.6216\n",
      "Epoch 29, CIFAR-10 Batch 3:  Loss: 1.0270, Accuracy: 0.6622\n",
      "Epoch 29, CIFAR-10 Batch 4:  Loss: 1.1925, Accuracy: 0.5777\n",
      "Epoch 29, CIFAR-10 Batch 5:  Loss: 1.0376, Accuracy: 0.6655\n",
      "Epoch 30, CIFAR-10 Batch 1:  Loss: 1.1719, Accuracy: 0.5878\n",
      "Epoch 30, CIFAR-10 Batch 2:  Loss: 1.2171, Accuracy: 0.5845\n",
      "Epoch 30, CIFAR-10 Batch 3:  Loss: 1.0895, Accuracy: 0.6216\n",
      "Epoch 30, CIFAR-10 Batch 4:  Loss: 1.1904, Accuracy: 0.5878\n",
      "Epoch 30, CIFAR-10 Batch 5:  Loss: 0.9879, Accuracy: 0.6757\n",
      "Epoch 31, CIFAR-10 Batch 1:  Loss: 1.0794, Accuracy: 0.6115\n",
      "Epoch 31, CIFAR-10 Batch 2:  Loss: 1.0262, Accuracy: 0.6520\n",
      "Epoch 31, CIFAR-10 Batch 3:  Loss: 1.0556, Accuracy: 0.6419\n",
      "Epoch 31, CIFAR-10 Batch 4:  Loss: 1.0876, Accuracy: 0.6284\n",
      "Epoch 31, CIFAR-10 Batch 5:  Loss: 0.9861, Accuracy: 0.6655\n",
      "Epoch 32, CIFAR-10 Batch 1:  Loss: 1.1642, Accuracy: 0.6047\n",
      "Epoch 32, CIFAR-10 Batch 2:  Loss: 1.0540, Accuracy: 0.6250\n",
      "Epoch 32, CIFAR-10 Batch 3:  Loss: 1.0553, Accuracy: 0.6520\n",
      "Epoch 32, CIFAR-10 Batch 4:  Loss: 1.0927, Accuracy: 0.6115\n",
      "Epoch 32, CIFAR-10 Batch 5:  Loss: 0.9676, Accuracy: 0.6554\n",
      "Epoch 33, CIFAR-10 Batch 1:  Loss: 1.0748, Accuracy: 0.6250\n",
      "Epoch 33, CIFAR-10 Batch 2:  Loss: 1.0635, Accuracy: 0.6216\n",
      "Epoch 33, CIFAR-10 Batch 3:  Loss: 1.0178, Accuracy: 0.6588\n",
      "Epoch 33, CIFAR-10 Batch 4:  Loss: 1.0053, Accuracy: 0.6520\n",
      "Epoch 33, CIFAR-10 Batch 5:  Loss: 0.9306, Accuracy: 0.7061\n",
      "Epoch 34, CIFAR-10 Batch 1:  Loss: 1.1107, Accuracy: 0.5811\n",
      "Epoch 34, CIFAR-10 Batch 2:  Loss: 1.0486, Accuracy: 0.6453\n",
      "Epoch 34, CIFAR-10 Batch 3:  Loss: 1.0248, Accuracy: 0.6453\n",
      "Epoch 34, CIFAR-10 Batch 4:  Loss: 1.0454, Accuracy: 0.6318\n",
      "Epoch 34, CIFAR-10 Batch 5:  Loss: 0.9524, Accuracy: 0.6791\n",
      "Epoch 35, CIFAR-10 Batch 1:  Loss: 1.1362, Accuracy: 0.5878\n",
      "Epoch 35, CIFAR-10 Batch 2:  Loss: 0.9876, Accuracy: 0.6385\n",
      "Epoch 35, CIFAR-10 Batch 3:  Loss: 1.0584, Accuracy: 0.6554\n",
      "Epoch 35, CIFAR-10 Batch 4:  Loss: 1.0536, Accuracy: 0.6318\n",
      "Epoch 35, CIFAR-10 Batch 5:  Loss: 0.9608, Accuracy: 0.6791\n",
      "Epoch 36, CIFAR-10 Batch 1:  Loss: 1.0809, Accuracy: 0.5709\n",
      "Epoch 36, CIFAR-10 Batch 2:  Loss: 1.0176, Accuracy: 0.6250\n",
      "Epoch 36, CIFAR-10 Batch 3:  Loss: 0.9623, Accuracy: 0.6655\n",
      "Epoch 36, CIFAR-10 Batch 4:  Loss: 1.0277, Accuracy: 0.6385\n",
      "Epoch 36, CIFAR-10 Batch 5:  Loss: 0.9464, Accuracy: 0.6723\n",
      "Epoch 37, CIFAR-10 Batch 1:  Loss: 1.0352, Accuracy: 0.6081\n",
      "Epoch 37, CIFAR-10 Batch 2:  Loss: 0.9340, Accuracy: 0.6689\n",
      "Epoch 37, CIFAR-10 Batch 3:  Loss: 0.9194, Accuracy: 0.6858\n",
      "Epoch 37, CIFAR-10 Batch 4:  Loss: 0.9911, Accuracy: 0.6250\n",
      "Epoch 37, CIFAR-10 Batch 5:  Loss: 0.9715, Accuracy: 0.6520\n",
      "Epoch 38, CIFAR-10 Batch 1:  Loss: 1.0100, Accuracy: 0.6284\n",
      "Epoch 38, CIFAR-10 Batch 2:  Loss: 0.9202, Accuracy: 0.6588\n",
      "Epoch 38, CIFAR-10 Batch 3:  Loss: 0.9310, Accuracy: 0.6858\n",
      "Epoch 38, CIFAR-10 Batch 4:  Loss: 0.9968, Accuracy: 0.6486\n",
      "Epoch 38, CIFAR-10 Batch 5:  Loss: 0.9105, Accuracy: 0.6791\n",
      "Epoch 39, CIFAR-10 Batch 1:  Loss: 0.9594, Accuracy: 0.6757\n",
      "Epoch 39, CIFAR-10 Batch 2:  Loss: 0.9410, Accuracy: 0.6723\n",
      "Epoch 39, CIFAR-10 Batch 3:  Loss: 0.9107, Accuracy: 0.6926\n",
      "Epoch 39, CIFAR-10 Batch 4:  Loss: 0.9824, Accuracy: 0.6453\n",
      "Epoch 39, CIFAR-10 Batch 5:  Loss: 0.8567, Accuracy: 0.7027\n",
      "Epoch 40, CIFAR-10 Batch 1:  Loss: 0.9824, Accuracy: 0.6689\n",
      "Epoch 40, CIFAR-10 Batch 2:  Loss: 0.9246, Accuracy: 0.6858\n",
      "Epoch 40, CIFAR-10 Batch 3:  Loss: 0.9087, Accuracy: 0.6959\n",
      "Epoch 40, CIFAR-10 Batch 4:  Loss: 0.9458, Accuracy: 0.6723\n",
      "Epoch 40, CIFAR-10 Batch 5:  Loss: 0.9191, Accuracy: 0.6723\n"
     ]
    }
   ],
   "source": [
    "\"\"\"\n",
    "DON'T MODIFY ANYTHING IN THIS CELL\n",
    "\"\"\"\n",
    "save_model_path = './image_classification'\n",
    "\n",
    "print('Training...')\n",
    "with tf.Session() as sess:\n",
    "    # Initializing the variables\n",
    "    sess.run(tf.global_variables_initializer())\n",
    "    \n",
    "    # Training cycle\n",
    "    for epoch in range(epochs):\n",
    "        # Loop over all batches\n",
    "        n_batches = 5\n",
    "        for batch_i in range(1, n_batches + 1):\n",
    "            for batch_features, batch_labels in helper.load_preprocess_training_batch(batch_i, batch_size):\n",
    "                train_neural_network(sess, optimizer, keep_probability, batch_features, batch_labels)\n",
    "            print('Epoch {:>2}, CIFAR-10 Batch {}:  '.format(epoch + 1, batch_i), end='')\n",
    "            print_stats(sess, batch_features, batch_labels, cost, accuracy)\n",
    "            \n",
    "    # Save Model\n",
    "    saver = tf.train.Saver()\n",
    "    save_path = saver.save(sess, save_model_path)"
   ]
  },
  {
   "cell_type": "markdown",
   "metadata": {},
   "source": [
    "# Checkpoint\n",
    "The model has been saved to disk.\n",
    "## Test Model\n",
    "Test your model against the test dataset.  This will be your final accuracy. You should have an accuracy greater than 50%. If you don't, keep tweaking the model architecture and parameters."
   ]
  },
  {
   "cell_type": "code",
   "execution_count": 39,
   "metadata": {},
   "outputs": [
    {
     "name": "stdout",
     "output_type": "stream",
     "text": [
      "INFO:tensorflow:Restoring parameters from ./image_classification\n",
      "Testing Accuracy: 0.503125\n",
      "\n"
     ]
    },
    {
     "data": {
      "image/png": "[encoded data removed]",
      "text/plain": [
       "<matplotlib.figure.Figure at 0x1a2fba9eb8>"
      ]
     },
     "metadata": {
      "image/png": {
       "height": 319,
       "width": 355
      }
     },
     "output_type": "display_data"
    }
   ],
   "source": [
    "\"\"\"\n",
    "DON'T MODIFY ANYTHING IN THIS CELL\n",
    "\"\"\"\n",
    "%matplotlib inline\n",
    "%config InlineBackend.figure_format = 'retina'\n",
    "\n",
    "import tensorflow as tf\n",
    "import pickle\n",
    "import helper\n",
    "import random\n",
    "\n",
    "# Set batch size if not already set\n",
    "try:\n",
    "    if batch_size:\n",
    "        pass\n",
    "except NameError:\n",
    "    batch_size = 64\n",
    "\n",
    "save_model_path = './image_classification'\n",
    "n_samples = 4\n",
    "top_n_predictions = 3\n",
    "\n",
    "def test_model():\n",
    "    \"\"\"\n",
    "    Test the saved model against the test dataset\n",
    "    \"\"\"\n",
    "\n",
    "    test_features, test_labels = pickle.load(open('preprocess_training.p', mode='rb'))\n",
    "    loaded_graph = tf.Graph()\n",
    "\n",
    "    with tf.Session(graph=loaded_graph) as sess:\n",
    "        # Load model\n",
    "        loader = tf.train.import_meta_graph(save_model_path + '.meta')\n",
    "        loader.restore(sess, save_model_path)\n",
    "\n",
    "        # Get Tensors from loaded model\n",
    "        loaded_x = loaded_graph.get_tensor_by_name('x:0')\n",
    "        loaded_y = loaded_graph.get_tensor_by_name('y:0')\n",
    "        loaded_keep_prob = loaded_graph.get_tensor_by_name('keep_prob:0')\n",
    "        loaded_logits = loaded_graph.get_tensor_by_name('logits:0')\n",
    "        loaded_acc = loaded_graph.get_tensor_by_name('accuracy:0')\n",
    "        \n",
    "        # Get accuracy in batches for memory limitations\n",
    "        test_batch_acc_total = 0\n",
    "        test_batch_count = 0\n",
    "        \n",
    "        for train_feature_batch, train_label_batch in helper.batch_features_labels(test_features, test_labels, batch_size):\n",
    "            test_batch_acc_total += sess.run(\n",
    "                loaded_acc,\n",
    "                feed_dict={loaded_x: train_feature_batch, loaded_y: train_label_batch, loaded_keep_prob: 1.0})\n",
    "            test_batch_count += 1\n",
    "\n",
    "        print('Testing Accuracy: {}\\n'.format(test_batch_acc_total/test_batch_count))\n",
    "\n",
    "        # Print Random Samples\n",
    "        random_test_features, random_test_labels = tuple(zip(*random.sample(list(zip(test_features, test_labels)), n_samples)))\n",
    "        random_test_predictions = sess.run(\n",
    "            tf.nn.top_k(tf.nn.softmax(loaded_logits), top_n_predictions),\n",
    "            feed_dict={loaded_x: random_test_features, loaded_y: random_test_labels, loaded_keep_prob: 1.0})\n",
    "        helper.display_image_predictions(random_test_features, random_test_labels, random_test_predictions)\n",
    "\n",
    "\n",
    "test_model()"
   ]
  },
  {
   "cell_type": "markdown",
   "metadata": {},
   "source": [
    "## Why 50-80% Accuracy?\n",
    "You might be wondering why you can't get an accuracy any higher. First things first, 50% isn't bad for a simple CNN.  Pure guessing would get you 10% accuracy. That's because there are many more techniques that can be applied to your model and we recemmond that once you are done with this project, you explore!\n",
    "\n",
    "## Submitting This Project\n",
    "When submitting this project, make sure to run all the cells before saving the notebook.  Save the notebook file as \"image_classification.ipynb\" and save it as a HTML file under \"File\" -> \"Download as\".  Include the \"helper.py\" and \"problem_unittests.py\" files in your submission."
   ]
  },
  {
   "cell_type": "code",
   "execution_count": null,
   "metadata": {},
   "outputs": [],
   "source": []
  }
 ],
 "metadata": {
  "kernelspec": {
   "display_name": "Python 3",
   "language": "python",
   "name": "python3"
  },
  "language_info": {
   "codemirror_mode": {
    "name": "ipython",
    "version": 3
   },
   "file_extension": ".py",
   "mimetype": "text/x-python",
   "name": "python",
   "nbconvert_exporter": "python",
   "pygments_lexer": "ipython3",
   "version": "3.6.4"
  }
 },
 "nbformat": 4,
 "nbformat_minor": 2
}
